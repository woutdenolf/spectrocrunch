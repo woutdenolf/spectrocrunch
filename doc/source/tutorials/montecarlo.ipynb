{
 "cells": [
  {
   "cell_type": "markdown",
   "metadata": {},
   "source": [
    "# Monte-carlo simulations\n",
    "\n",
    "Xrmc and xmim-sim are used for simulation. The sample coordinate system is defined so that the beam travels along the Y-axis, the Z-axis points upwards and the X-axis is parallel with the synchrotron plane, pointing to the left when looking upstream. The detector reference frame (before transformation) is defined so that the Z-axis points upstream, the X-axis (detector image rows) points upwards and the Y-axis (detector image columns) points to the right when looking upstream.\n",
    "\n",
    "Units are cm (distance), keV (energy) and seconds (time) unless noted otherwise."
   ]
  },
  {
   "cell_type": "code",
   "execution_count": 26,
   "metadata": {},
   "outputs": [],
   "source": [
    "from spectrocrunch.simulation.xrmc import XrmcWorldBuilder, loadxrmcresult, showxrmcresult\n",
    "import numpy as np\n",
    "import matplotlib.pyplot as plt"
   ]
  },
  {
   "cell_type": "markdown",
   "metadata": {},
   "source": [
    "### Source"
   ]
  },
  {
   "cell_type": "code",
   "execution_count": 27,
   "metadata": {},
   "outputs": [],
   "source": [
    "from spectrocrunch.sources import xray as xraysources\n",
    "from spectrocrunch.materials import pymca\n",
    "source = xraysources.factory(\"synchrotron\")\n",
    "\n",
    "pymcahandle = pymca.PymcaHandle(energy=7.5,\n",
    "                                flux=1e9,\n",
    "                                time=1,\n",
    "                                linear=True,\n",
    "                                escape=True,\n",
    "                                continuum=True,\n",
    "                                scatter=True)\n",
    "\n",
    "def world_addsource(world, fullfield=False):\n",
    "    distance = 42e2  # doesn't really matter\n",
    "    # Beamsize at the sample\n",
    "    if fullfield:\n",
    "        beamsize = 100e-4  # cm\n",
    "    else:\n",
    "        beamsize = 1e-4  # cm\n",
    "    world.definesource(flux=pymcahandle.flux.to('Hz').magnitude,\n",
    "                       energy=pymcahandle.energy,\n",
    "                       distance=distance,\n",
    "                       beamsize=beamsize)"
   ]
  },
  {
   "cell_type": "markdown",
   "metadata": {},
   "source": [
    "### Diode\n",
    "\n",
    "Angles are defined with respect to the beam direction (angle=0 deg)."
   ]
  },
  {
   "cell_type": "code",
   "execution_count": 28,
   "metadata": {},
   "outputs": [],
   "source": [
    "def world_adddiode(world, angle=0, multiplicity=10):\n",
    "    forcedetect = False\n",
    "    poissonnoise = False\n",
    "    distance = 10  # cm\n",
    "    activearea = 1  # cm^2\n",
    "    world.adddiode(distance=distance, activearea=activearea,\n",
    "                   orientation_inplane=angle, orientation_outplane=0,\n",
    "                   poissonnoise=poissonnoise, ebinsize=None,\n",
    "                   forcedetect=forcedetect, multiplicity=multiplicity,\n",
    "                   time=pymcahandle.time.to('s').magnitude)"
   ]
  },
  {
   "cell_type": "markdown",
   "metadata": {},
   "source": [
    "### XRF detector\n",
    "\n",
    "Angles are defined with respect to the beam direction (angle=0 deg)."
   ]
  },
  {
   "cell_type": "code",
   "execution_count": 29,
   "metadata": {},
   "outputs": [],
   "source": [
    "from spectrocrunch.materials import multilayer\n",
    "from spectrocrunch.detectors import xrf as xrfdetectors\n",
    "from spectrocrunch.geometries import xrf as xrfgeometries\n",
    "\n",
    "detector = xrfdetectors.factory(\"leia\")\n",
    "geometry = xrfgeometries.factory(\"sxm120\",\n",
    "                                 detector=detector,\n",
    "                                 source=source)\n",
    "\n",
    "def world_addsdd(world, angle_start=None, angle_end=None, convoluted=False, multiplicity=10):\n",
    "    forcedetect = True\n",
    "    poissonnoise = False\n",
    "    distance = geometry.distance.to('cm').magnitude\n",
    "    activearea = geometry.detector.activearea.to('cm**2').magnitude\n",
    "    ebinsize = geometry.detector.mcagain  # keV\n",
    "    if convoluted:\n",
    "        detectormaterial = geometry.detector.material\n",
    "        detectorthickness = geometry.detector.thickness\n",
    "\n",
    "        window = geometry.detector.detectorfilters()\n",
    "        material = [w['material'] for w in window]\n",
    "        thickness = [w['thickness'] for w in window]\n",
    "        windowmaterial = multilayer.Multilayer(material=material,\n",
    "                                               thickness=thickness,\n",
    "                                               name='sddwindow')\n",
    "        windowthickness = sum(windowmaterial.thickness)\n",
    "        windowmaterial = windowmaterial.mixlayers()\n",
    "        if hasattr(windowmaterial, 'tocompound'):\n",
    "            windowmaterial = windowmaterial.tocompound()\n",
    "\n",
    "        world.addmaterial(detectormaterial)\n",
    "        world.addmaterial(windowmaterial)\n",
    "        response = {'material': detectormaterial.name,\n",
    "                    'thickness': detectorthickness,\n",
    "                    'windowmaterial': windowmaterial.name,\n",
    "                    'windowthickness': windowthickness,\n",
    "                    'noise': geometry.detector.mcanoise,\n",
    "                    'fano': geometry.detector.mcafano}\n",
    "        print(response)\n",
    "    else:\n",
    "        response = {}\n",
    "    world.addxrfdetector(distance=distance, activearea=activearea,\n",
    "                         orientation_inplane=angle_start, orientation_outplane=0,\n",
    "                         ebinsize=ebinsize, poissonnoise=poissonnoise,\n",
    "                         forcedetect=forcedetect, multiplicity=multiplicity,\n",
    "                         response=response, time=pymcahandle.time.to('s').magnitude)\n",
    "    if angle_start is None or angle_end is None:\n",
    "        angle_start = angle_end = geometry.anglenormout\n",
    "    if angle_start != angle_end:\n",
    "        angle_nsteps = 30\n",
    "        angle_step = float(angle_end-angle_start)/angle_nsteps\n",
    "        #angle_step, angle_nsteps = angle_nsteps, angle_step\n",
    "        world.detector.add_inplane_rotationloop(angle_step, angle_nsteps)"
   ]
  },
  {
   "cell_type": "markdown",
   "metadata": {},
   "source": [
    "### Imaging camera"
   ]
  },
  {
   "cell_type": "code",
   "execution_count": 30,
   "metadata": {},
   "outputs": [],
   "source": [
    "def world_addpco(world, multiplicity=10):\n",
    "    forcedetect = True\n",
    "    poissonnoise = False\n",
    "    distance = 5  # cm\n",
    "    shift = 0.000, 0.000  # cm\n",
    "    angle = np.arctan2(shift, distance)*180/np.pi  # deg\n",
    "    ebinsize = 5e-3  # keV\n",
    "    n = 128\n",
    "    projbeamsizetrans = 2 * (world.source.distance + distance) * np.tan(world.source.divergence)\n",
    "    pixelsize = projbeamsizetrans/n  # beam fits exactly in detector (when angle=[0,0])\n",
    "    world.addareadetector(distance=distance,\n",
    "                          pixelsize=(pixelsize, pixelsize), dims=(n, n),\n",
    "                          orientation_inplane=angle[0], orientation_outplane=angle[1],\n",
    "                          ebinsize=ebinsize, poissonnoise=poissonnoise,\n",
    "                          forcedetect=forcedetect, multiplicity=multiplicity,\n",
    "                          time=pymcahandle.time.to('s').magnitude)"
   ]
  },
  {
   "cell_type": "markdown",
   "metadata": {},
   "source": [
    "### Sample"
   ]
  },
  {
   "cell_type": "code",
   "execution_count": 31,
   "metadata": {},
   "outputs": [
    {
     "name": "stdout",
     "output_type": "stream",
     "text": [
      "Multilayer (ordered top-bottom):\n",
      " Layer 0. 10.0 um (hematite)\n",
      " Layer 1. 20.0 um (50.00 wt% PbSO4 + 50.00 wt% calcite)\n",
      "\n",
      "XraySource:\n",
      " intensity = 1.0 (W/m^2)\n",
      " dop = 1.0\n",
      " dolp = 1.0\n",
      " polangle = 0.0 (deg)\n",
      " handedness = none\n",
      "XRF detector:\n",
      " Active area = 0.8 cm ** 2\n",
      " Ionization energy = 3.66856052632 eV\n",
      " Material = Si (0.045 cm)\n",
      "Beam filters: None\n",
      "Detector filters:\n",
      " ultralene = 0.0004064 cm\n",
      " Be = 0.0025 cm\n",
      "MCA:\n",
      " zero = 0.0 eV\n",
      " gain = 5.0 eV\n",
      " noise = 50.0 eV (FWHM)\n",
      " fano = 0.19\n",
      "Geometry:\n",
      " In = 62 deg\n",
      " Out = 58 deg (reflection)\n",
      " Azimuth = 0 deg\n",
      " Distance = 57.0 mm\n",
      " Solid angle = 4*pi*0.00194798955628 srad\n",
      " Detector position = 0 mm\n"
     ]
    }
   ],
   "source": [
    "from spectrocrunch.materials import compoundfromformula\n",
    "from spectrocrunch.materials import compoundfromname\n",
    "from spectrocrunch.materials import compoundfromlist\n",
    "from spectrocrunch.materials import mixture\n",
    "from spectrocrunch.materials import types\n",
    "\n",
    "c1 = compoundfromname.compoundfromname(\"hematite\")\n",
    "c2 = compoundfromformula.CompoundFromFormula(\"PbSO4\",density=6.29)\n",
    "c3 = compoundfromlist.CompoundFromList([\"Ca\",\"C\",\"O\"],\n",
    "                                       [1,1,3],\n",
    "                                       types.fraction.mole,\n",
    "                                       density=2.71,\n",
    "                                       name=\"calcite\")\n",
    "toplayer = c1\n",
    "substrate = mixture.Mixture([c2,c3],\n",
    "                            [0.5,0.5],\n",
    "                            types.fraction.mass,\n",
    "                            name=\"Substrate\")\n",
    "\n",
    "sample = multilayer.Multilayer(material=[toplayer, substrate],\n",
    "                               thickness=[10e-4, 20e-4],\n",
    "                               geometry = geometry)\n",
    "\n",
    "pymcahandle.sample = sample\n",
    "print(sample)\n",
    "print(\"\")\n",
    "print(geometry)\n",
    "\n",
    "def world_addsample(world, fullfield=False):\n",
    "    projbeamsizesample = 2 * (world.source.distance) * np.tan(world.source.divergence)\n",
    "    assert world.source.beamsize == projbeamsizesample\n",
    "    if fullfield:\n",
    "        # Make sure the entire sample fits in the beam footprint\n",
    "        samplesize = projbeamsizesample/2.\n",
    "    else:\n",
    "        # Make sure the sample is larger than the beam footprint\n",
    "        samplesize = projbeamsizesample*10\n",
    "    \n",
    "    # All layers the same size and beam throught sample center\n",
    "    nlayers = len(sample)\n",
    "    dxs = [samplesize]*nlayers\n",
    "    dys = [samplesize]*nlayers\n",
    "    oxs = [0]*nlayers\n",
    "    oys = [0]*nlayers\n",
    "    \n",
    "    # Make first layer smaller\n",
    "    dxs[0] = 3*samplesize/4.\n",
    "    dys[0] = samplesize/4.\n",
    "    oxs[0] = (samplesize-dxs[0])/2.\n",
    "    oys[0] = 0#-(samplesize-dys[0])/2.\n",
    "    \n",
    "    world.removesample()\n",
    "    for layer, dx, dy, ox, oy in zip(sample, dxs, dys, oxs, oys):\n",
    "        world.addmaterial(layer.material)\n",
    "        world.addlayer(material=layer.material.name,\n",
    "                       thickness=layer.thickness,\n",
    "                       dhor=dx, dvert=dy, ohor=ox, overt=oy)"
   ]
  },
  {
   "cell_type": "markdown",
   "metadata": {},
   "source": [
    "### Run experiments"
   ]
  },
  {
   "cell_type": "code",
   "execution_count": 32,
   "metadata": {},
   "outputs": [],
   "source": [
    "from spectrocrunch.io import localfs\n",
    "\n",
    "experiments = ['xrf']\n",
    "\n",
    "def run(world, interactions, simulate=True, plot=True, ylog=False):\n",
    "    path = localfs.Path(world.main.path)\n",
    "    if simulate:\n",
    "        path.remove(recursive=True)\n",
    "        world.finalize(interactions=interactions)\n",
    "        if not world.simulate():\n",
    "            #path.ls(recursive=True)\n",
    "            raise RuntimeError('Simulation failed')\n",
    "    else:\n",
    "        world.finalize(interactions=interactions)\n",
    "    #if plot:\n",
    "    #    path.ls(recursive=True)\n",
    "    data, info = loadxrmcresult(world.detector.outpath, world.detector.name)\n",
    "    if plot:\n",
    "        #info.pop('xenergy') # in case you want channels\n",
    "        showxrmcresult(data, ylog=ylog, **info)\n",
    "    return data, info"
   ]
  },
  {
   "cell_type": "markdown",
   "metadata": {},
   "source": [
    "## Imaging"
   ]
  },
  {
   "cell_type": "markdown",
   "metadata": {},
   "source": [
    "Visualize sample in transmission with a wide beam and an area detector. Test sample and detector rotation.\n",
    "\n",
    "Positive rotation in the synchrotron plane:\n",
    "- sample moves to the left when looking upstream\n",
    "- detector moves to the left when looking upstream\n",
    "\n",
    "Positive rotation out of the synchrotron plane:\n",
    "- sample moves below the synchrotron plane\n",
    "- detector moves below the synchrotron plane\n",
    "\n",
    "This means rotations are defined as change-of-frame (inverse of object transformation)."
   ]
  },
  {
   "cell_type": "code",
   "execution_count": 33,
   "metadata": {},
   "outputs": [],
   "source": [
    "if 'imaging' in experiments:\n",
    "    path = r'/data/id21/tmp/xrmctest/imaging'\n",
    "    world = XrmcWorldBuilder(path)\n",
    "    world_addsource(world, fullfield=True)\n",
    "    world_addsample(world, fullfield=True)\n",
    "    world_addpco(world)\n",
    "    world.quadrics.orientation_inplane = 0\n",
    "    world.quadrics.orientation_outplane = 0\n",
    "    world.quadrics.add_inplane_rotationloop(90, 1)\n",
    "    world.quadrics.add_outplane_rotationloop(90, 1)\n",
    "    data, info = run(world, (10, ), simulate=True)"
   ]
  },
  {
   "cell_type": "markdown",
   "metadata": {},
   "source": [
    "## XANES\n",
    "Transmission: diode behind the sample, fluorescence: diode at 110 degrees from the beam (in the synchrotron plane)."
   ]
  },
  {
   "cell_type": "code",
   "execution_count": 34,
   "metadata": {},
   "outputs": [],
   "source": [
    "if 'xanes' in experiments:\n",
    "    path = r'/data/id21/tmp/xrmctest/xanes'\n",
    "    energy = np.linspace(7.05, 7.3, 30)\n",
    "    world = XrmcWorldBuilder(path)\n",
    "    world_addsource(world)\n",
    "    world_addsample(world)\n",
    "    world_adddiode(world)\n",
    "\n",
    "    for order in range(2):\n",
    "        # Do not force detection to get the 0-order (transmission).\n",
    "        if order:\n",
    "            label = 'fluorescence (order {})'.format(order)\n",
    "            world.detector.forcedetect = True\n",
    "            world.detector.orientation_inplane = 110\n",
    "        else:\n",
    "            label = 'transmission'\n",
    "            world.detector.forcedetect = False\n",
    "            world.detector.orientation_inplane = 0\n",
    "        multiplicity = (1,) + (1000,)*order\n",
    "        counts = np.zeros(energy.size)\n",
    "        for i, en in enumerate(energy):\n",
    "            world.spectrum.lines[0][0] = en\n",
    "            data, info = run(world, multiplicity, simulate=True, plot=False)\n",
    "            counts[i] = np.squeeze(data[order])\n",
    "        if order==0:\n",
    "            counts = -np.log(counts)\n",
    "        counts -= counts.min()\n",
    "        counts /= counts.max()\n",
    "        tmp = plt.plot(energy, counts, label=label)\n",
    "        plt.xlabel('Energy (keV)')\n",
    "        plt.ylabel('Normalized XANES')\n",
    "        plt.title('Exposure time = {} sec'.format(info['time']))\n",
    "    tmp = plt.legend()"
   ]
  },
  {
   "cell_type": "markdown",
   "metadata": {},
   "source": [
    "## XRF: scattering\n",
    "\n",
    "Rotate fluorescence detector from 0 to 180 degrees (in plane of synchrotron)."
   ]
  },
  {
   "cell_type": "code",
   "execution_count": 35,
   "metadata": {},
   "outputs": [],
   "source": [
    "if 'scattering' in experiments:\n",
    "    path = r'/data/id21/tmp/xrmctest/xrf'\n",
    "    world = XrmcWorldBuilder(path)\n",
    "    energy = 7.5\n",
    "    angle_start = 0\n",
    "    angle_end = 180\n",
    "    world_addsource(world, energy=energy)\n",
    "    world_addsample(world)\n",
    "    world_addsdd(world, multiplicity=10, angle_start=angle_start,\n",
    "           angle_end=angle_end, convoluted=False)\n",
    "    data, info = run(world, (1, 10000, ), simulate=True,\n",
    "                     ylog=True, plot=False)"
   ]
  },
  {
   "cell_type": "markdown",
   "metadata": {},
   "source": [
    "Plot evolution of elastic scattering peak"
   ]
  },
  {
   "cell_type": "code",
   "execution_count": 36,
   "metadata": {},
   "outputs": [],
   "source": [
    "if 'scattering' in experiments:\n",
    "    idx = np.argmin(np.abs(info['xenergy']-energy))\n",
    "    y0, y1 = data[..., 0, 0, idx-5:idx+5].sum(axis=-1)\n",
    "    x = np.linspace(angle_start, angle_end, y1.size)\n",
    "    tmp = plt.plot(x, y1)\n",
    "    plt.xlabel('Detector angle (deg)')\n",
    "    plt.ylabel('Rayleigh counts')\n",
    "    tmp = plt.title('Exposure time = {} sec'.format(info['time']))"
   ]
  },
  {
   "cell_type": "markdown",
   "metadata": {},
   "source": [
    "## XRF: detection limits"
   ]
  },
  {
   "cell_type": "code",
   "execution_count": 37,
   "metadata": {},
   "outputs": [
    {
     "name": "stdout",
     "output_type": "stream",
     "text": [
      "{'noise': 0.05, 'windowthickness': 0.0029064, 'material': 'Si', 'fano': 0.19, 'thickness': 0.045, 'windowmaterial': 'sddwindow'}\n",
      "Data shape: (2, 1, 1, 1, 1500)\n",
      "Step 0\n",
      " Min counts/pixel (for each order): [0. 0.]\n",
      " Max counts/pixel (for each order): [   0.         8012.78838836]\n",
      " Total counts (for each order): [     0.         299884.23600111]\n"
     ]
    },
    {
     "data": {
      "image/png": "[encoded data removed]",
      "text/plain": [
       "<Figure size 432x288 with 1 Axes>"
      ]
     },
     "metadata": {
      "needs_background": "light"
     },
     "output_type": "display_data"
    }
   ],
   "source": [
    "if 'xrf' in experiments:\n",
    "    path = r'/data/id21/tmp/xrmctest/xrf'\n",
    "    world = XrmcWorldBuilder(path)\n",
    "    angle = 90\n",
    "    world_addsource(world)\n",
    "    world_addsample(world)\n",
    "    world_addsdd(world, multiplicity=10, angle_start=angle,\n",
    "           angle_end=angle, convoluted=True)\n",
    "    data, info = run(world, (1, 10000, ), simulate=True,\n",
    "                     ylog=False, plot=True)"
   ]
  },
  {
   "cell_type": "code",
   "execution_count": 38,
   "metadata": {},
   "outputs": [],
   "source": [
    "if 'xrf' in experiments:\n",
    "    counts = data[1, 0, 0, 0, :]"
   ]
  }
 ],
 "metadata": {
  "kernelspec": {
   "display_name": "Python 2",
   "language": "python",
   "name": "python2"
  },
  "language_info": {
   "codemirror_mode": {
    "name": "ipython",
    "version": 2
   },
   "file_extension": ".py",
   "mimetype": "text/x-python",
   "name": "python",
   "nbconvert_exporter": "python",
   "pygments_lexer": "ipython2",
   "version": "2.7.9"
  }
 },
 "nbformat": 4,
 "nbformat_minor": 2
}
