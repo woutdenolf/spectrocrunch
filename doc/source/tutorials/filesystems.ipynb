{
 "cells": [
  {
   "cell_type": "markdown",
   "metadata": {},
   "source": [
    "# File systems proxies\n",
    "\n",
    "This notebook demonstrates file system proxies to folders and directories, which are basically strings (paths) with additional methods for creation, opening moving, deleting, renaming, linking and browsing. Three file systems are currently supported:\n",
    " * Local file system\n",
    " * HDF5 file system\n",
    " * Nexus file system"
   ]
  },
  {
   "cell_type": "code",
   "execution_count": 1,
   "metadata": {},
   "outputs": [],
   "source": [
    "from spectrocrunch.io import fs,localfs,h5fs,nxfs"
   ]
  },
  {
   "cell_type": "markdown",
   "metadata": {},
   "source": [
    "This notebook will create directories and files in a context manager that cleans up everything afterwards:"
   ]
  },
  {
   "cell_type": "code",
   "execution_count": 2,
   "metadata": {},
   "outputs": [],
   "source": [
    "import os\n",
    "from contextlib import contextmanager\n",
    "@contextmanager\n",
    "def temppath(hdf5=False):\n",
    "    with localfs.Path('.').temp() as root:\n",
    "        root.mkdir()\n",
    "        if hdf5:\n",
    "            root = h5fs.Path(root['test.h5']).mkdir()\n",
    "            print('HDF5 root: {}'.format(root))\n",
    "        else:\n",
    "            print('Local root: {}'.format(root))\n",
    "        yield root"
   ]
  },
  {
   "cell_type": "markdown",
   "metadata": {},
   "source": [
    "This context manager will be used as follows:"
   ]
  },
  {
   "cell_type": "code",
   "execution_count": 3,
   "metadata": {},
   "outputs": [
    {
     "name": "stdout",
     "output_type": "stream",
     "text": [
      "HDF5 root: /mntdirect/_data_id21_inhouse/wout/dev/SpectroCrunchDev/fluxnorm/HAipMX/test.h5:/\n",
      "+-/mntdirect/_data_id21_inhouse/wout/dev/SpectroCrunchDev/fluxnorm/HAipMX/test.h5:/\n",
      "+-/mntdirect/_data_id21_inhouse/wout/dev/SpectroCrunchDev/fluxnorm/HAipMX/test.h5:/ (does not exist)\n",
      "\n",
      "Local root: /mntdirect/_data_id21_inhouse/wout/dev/SpectroCrunchDev/fluxnorm/Ms8dng\n",
      "+-/mntdirect/_data_id21_inhouse/wout/dev/SpectroCrunchDev/fluxnorm/Ms8dng\n",
      "+-/mntdirect/_data_id21_inhouse/wout/dev/SpectroCrunchDev/fluxnorm/Ms8dng (does not exist)\n",
      "\n"
     ]
    }
   ],
   "source": [
    "for hdf5 in [True,False]:\n",
    "    with temppath(hdf5=hdf5) as root:\n",
    "        root.ls()\n",
    "    root.ls()\n",
    "    print('')"
   ]
  },
  {
   "cell_type": "markdown",
   "metadata": {},
   "source": [
    "## Proxy\n",
    "\n",
    "A proxy to an existing or non-existing path (file or directory) can be created from a string:"
   ]
  },
  {
   "cell_type": "code",
   "execution_count": 4,
   "metadata": {},
   "outputs": [
    {
     "name": "stdout",
     "output_type": "stream",
     "text": [
      "Local root: /mntdirect/_data_id21_inhouse/wout/dev/SpectroCrunchDev/fluxnorm/sGvJEJ\n",
      "String: /mntdirect/_data_id21_inhouse/wout/dev/SpectroCrunchDev/fluxnorm/sGvJEJ/subdir\n",
      "Local proxy: /mntdirect/_data_id21_inhouse/wout/dev/SpectroCrunchDev/fluxnorm/sGvJEJ/subdir\n",
      "\n",
      "String: /mntdirect/_data_id21_inhouse/wout/dev/SpectroCrunchDev/fluxnorm/sGvJEJ/test.h5:/subdir\n",
      "HDF5 proxy: /mntdirect/_data_id21_inhouse/wout/dev/SpectroCrunchDev/fluxnorm/sGvJEJ/test.h5:/subdir\n"
     ]
    }
   ],
   "source": [
    "with temppath() as root:\n",
    "    path = os.path.join(root.path,'subdir')\n",
    "    print('String: '+path)\n",
    "    proxy = localfs.Path(path)\n",
    "    print('Local proxy: '+str(proxy))\n",
    "    assert(not proxy.exists)\n",
    "    print('')\n",
    "    \n",
    "    path = os.path.join(root.path,'test.h5:/subdir')\n",
    "    print('String: '+path)\n",
    "    proxy = h5fs.Path(path)\n",
    "    print('HDF5 proxy: '+str(proxy))\n",
    "    assert(not proxy.exists)"
   ]
  },
  {
   "cell_type": "markdown",
   "metadata": {},
   "source": [
    "### Create directories\n",
    "\n",
    "You can use the proxy's \"mkdir\" method to create the directory"
   ]
  },
  {
   "cell_type": "code",
   "execution_count": 5,
   "metadata": {},
   "outputs": [
    {
     "name": "stdout",
     "output_type": "stream",
     "text": [
      "Local root: /mntdirect/_data_id21_inhouse/wout/dev/SpectroCrunchDev/fluxnorm/nDKToD\n",
      "Device: \n",
      "Path: /mntdirect/_data_id21_inhouse/wout/dev/SpectroCrunchDev/fluxnorm/nDKToD/dir/subdir\n",
      "Location: /mntdirect/_data_id21_inhouse/wout/dev/SpectroCrunchDev/fluxnorm/nDKToD/dir/subdir\n",
      "\n",
      "HDF5 root: /mntdirect/_data_id21_inhouse/wout/dev/SpectroCrunchDev/fluxnorm/F0WAsa/test.h5:/\n",
      "Device: /mntdirect/_data_id21_inhouse/wout/dev/SpectroCrunchDev/fluxnorm/F0WAsa/test.h5\n",
      "Path: /dir/subdir\n",
      "Location: /mntdirect/_data_id21_inhouse/wout/dev/SpectroCrunchDev/fluxnorm/F0WAsa/test.h5:/dir/subdir\n",
      "\n"
     ]
    }
   ],
   "source": [
    "for hdf5 in [False,True]:\n",
    "    with temppath(hdf5=hdf5) as root:\n",
    "        subdir = root['dir']['subdir']\n",
    "        print('Device: {}'.format(subdir.device))\n",
    "        print('Path: '+subdir.path)\n",
    "        print('Location: '+subdir.location)\n",
    "        assert(not subdir.exists)\n",
    "        subdir.mkdir(recursive=True)\n",
    "        assert(subdir.exists)\n",
    "        print('')"
   ]
  },
  {
   "cell_type": "markdown",
   "metadata": {},
   "source": [
    "### Browse directories"
   ]
  },
  {
   "cell_type": "markdown",
   "metadata": {},
   "source": [
    "Browse directories that not necessarily exist using indexing or iterators:"
   ]
  },
  {
   "cell_type": "code",
   "execution_count": 6,
   "metadata": {},
   "outputs": [
    {
     "name": "stdout",
     "output_type": "stream",
     "text": [
      "Local root: /mntdirect/_data_id21_inhouse/wout/dev/SpectroCrunchDev/fluxnorm/CrEdFh\n",
      "/mntdirect/_data_id21_inhouse/wout/dev/SpectroCrunchDev/fluxnorm/CrEdFh/dir/subdir\n",
      "/mntdirect/_data_id21_inhouse/wout/dev/SpectroCrunchDev/fluxnorm/CrEdFh/dir\n",
      "/mntdirect/_data_id21_inhouse/wout/dev/SpectroCrunchDev/fluxnorm/CrEdFh\n",
      "/mntdirect/_data_id21_inhouse/wout/dev/SpectroCrunchDev/fluxnorm\n",
      "/mntdirect/_data_id21_inhouse/wout/dev/SpectroCrunchDev\n",
      "/mntdirect/_data_id21_inhouse/wout/dev\n",
      "/mntdirect/_data_id21_inhouse/wout\n",
      "/mntdirect/_data_id21_inhouse\n",
      "/mntdirect\n",
      "/\n",
      "\n",
      "HDF5 root: /mntdirect/_data_id21_inhouse/wout/dev/SpectroCrunchDev/fluxnorm/30s6wg/test.h5:/\n",
      "/mntdirect/_data_id21_inhouse/wout/dev/SpectroCrunchDev/fluxnorm/30s6wg/test.h5:/dir/subdir\n",
      "/mntdirect/_data_id21_inhouse/wout/dev/SpectroCrunchDev/fluxnorm/30s6wg/test.h5:/dir\n",
      "/mntdirect/_data_id21_inhouse/wout/dev/SpectroCrunchDev/fluxnorm/30s6wg/test.h5:/\n",
      "\n"
     ]
    }
   ],
   "source": [
    "for hdf5 in [False,True]:\n",
    "    with temppath(hdf5=hdf5) as root:\n",
    "        # Indexing\n",
    "        path = root['dir']['subdir']\n",
    "        assert(path['.'] == path)\n",
    "        assert(path['..'] == root['dir'])\n",
    "        assert(path['..'] == path.parent)\n",
    "        assert(path == path['..']['subdir'])\n",
    "\n",
    "        # Iterator\n",
    "        for p in path.iterup:\n",
    "            print p\n",
    "        print('')"
   ]
  },
  {
   "cell_type": "markdown",
   "metadata": {},
   "source": [
    "Browse directories that exist using the \"ls\" method or iterators:"
   ]
  },
  {
   "cell_type": "code",
   "execution_count": 7,
   "metadata": {},
   "outputs": [
    {
     "name": "stdout",
     "output_type": "stream",
     "text": [
      "Local root: /mntdirect/_data_id21_inhouse/wout/dev/SpectroCrunchDev/fluxnorm/LWqoVK\n",
      "/mntdirect/_data_id21_inhouse/wout/dev/SpectroCrunchDev/fluxnorm/LWqoVK/dir/subdir/dirb\n",
      "/mntdirect/_data_id21_inhouse/wout/dev/SpectroCrunchDev/fluxnorm/LWqoVK/dir/subdir/dira\n",
      "+-/mntdirect/_data_id21_inhouse/wout/dev/SpectroCrunchDev/fluxnorm/LWqoVK\n",
      "  |\n",
      "  +-dir\n",
      "    |\n",
      "    +-subdir\n",
      "      |\n",
      "      +-dira\n",
      "      |\n",
      "      +-dirb\n",
      "\n",
      "HDF5 root: /mntdirect/_data_id21_inhouse/wout/dev/SpectroCrunchDev/fluxnorm/xXMd8T/test.h5:/\n",
      "/mntdirect/_data_id21_inhouse/wout/dev/SpectroCrunchDev/fluxnorm/xXMd8T/test.h5:/dir/subdir/dira\n",
      "/mntdirect/_data_id21_inhouse/wout/dev/SpectroCrunchDev/fluxnorm/xXMd8T/test.h5:/dir/subdir/dirb\n",
      "+-/mntdirect/_data_id21_inhouse/wout/dev/SpectroCrunchDev/fluxnorm/xXMd8T/test.h5:/\n",
      "  |\n",
      "  +-dir\n",
      "    |\n",
      "    +-subdir\n",
      "      |\n",
      "      +-dira\n",
      "      |\n",
      "      +-dirb\n",
      "\n"
     ]
    }
   ],
   "source": [
    "for hdf5 in [False,True]:\n",
    "    with temppath(hdf5=hdf5) as root:\n",
    "        path = root['dir']['subdir'].mkdir()\n",
    "        for subdir in ['dira','dirb']:\n",
    "            path[subdir].mkdir()\n",
    "        \n",
    "        # Iterator\n",
    "        for subdir in path:\n",
    "            print(subdir)\n",
    "        \n",
    "        # ls\n",
    "        root.ls(recursive=True)\n",
    "        print('')\n"
   ]
  },
  {
   "cell_type": "markdown",
   "metadata": {},
   "source": [
    "### Create files"
   ]
  },
  {
   "cell_type": "code",
   "execution_count": 8,
   "metadata": {},
   "outputs": [
    {
     "name": "stdout",
     "output_type": "stream",
     "text": [
      "Local root: /mntdirect/_data_id21_inhouse/wout/dev/SpectroCrunchDev/fluxnorm/gUUDr1\n",
      "+-/mntdirect/_data_id21_inhouse/wout/dev/SpectroCrunchDev/fluxnorm/gUUDr1\n",
      "  | @size = 4096\n",
      "  | @blocks = 0\n",
      "  | @ctime = 2018-12-04 18:57:39.872151\n",
      "  | @rdev = 0\n",
      "  | @dev = 162\n",
      "  | @nlink = 2\n",
      "  | @gid = 1621\n",
      "  | @blksize = 1048576\n",
      "  | @mtime = 2018-12-04 18:57:39.872151\n",
      "  | @uid = 80528\n",
      "  | @atime = 2018-12-04 18:57:39.872535\n",
      "  | @ino = 360438216\n",
      "  | @mode = 16893\n",
      "  |\n",
      "  +-file1.txt\n",
      "      @size = 11\n",
      "      @blocks = 0\n",
      "      @ctime = 2018-12-04 18:57:39.872634\n",
      "      @rdev = 0\n",
      "      @dev = 162\n",
      "      @nlink = 1\n",
      "      @gid = 1621\n",
      "      @blksize = 1048576\n",
      "      @mtime = 2018-12-04 18:57:39.872657\n",
      "      @uid = 80528\n",
      "      @atime = 2018-12-04 18:57:39.872151\n",
      "      @ino = 360438211\n",
      "      @mode = 33204\n",
      "IO object: <type 'file'>\n",
      "Content: Hello World\n",
      "\n",
      "HDF5 root: /mntdirect/_data_id21_inhouse/wout/dev/SpectroCrunchDev/fluxnorm/Tqo7PU/test.h5:/\n",
      "+-/mntdirect/_data_id21_inhouse/wout/dev/SpectroCrunchDev/fluxnorm/Tqo7PU/test.h5:/\n",
      "  |\n",
      "  +-file1.txt = int64 (10)\n",
      "IO object: <class 'h5py._hl.dataset.Dataset'>\n",
      "Content: [0 1 2 3 4 5 6 7 8 9]\n",
      "\n"
     ]
    }
   ],
   "source": [
    "for hdf5 in [False,True]:\n",
    "    with temppath(hdf5=hdf5) as root:\n",
    "        if hdf5:\n",
    "            data = range(10)\n",
    "        else:\n",
    "            data = 'Hello World'\n",
    "        path = root['file1.txt'].mkfile(data=data)\n",
    "        root.ls(stats=True)\n",
    "        \n",
    "        with path.open(mode='r') as fileio:\n",
    "            print('IO object: {}'.format(type(fileio)))\n",
    "        content = path.read()\n",
    "        print('Content: {}'.format(content))\n",
    "        if hdf5:\n",
    "            assert(tuple(data)==tuple(content))\n",
    "        else:\n",
    "            assert(data==content)\n",
    "        print('')"
   ]
  },
  {
   "cell_type": "markdown",
   "metadata": {},
   "source": [
    "### Move/rename\n",
    "\n",
    "Moving files or directories can be done with the \"move\" method (aliases: \"mv\" and \"rename\"). The destination can be a path proxy or a string."
   ]
  },
  {
   "cell_type": "code",
   "execution_count": 9,
   "metadata": {},
   "outputs": [
    {
     "name": "stdout",
     "output_type": "stream",
     "text": [
      "Local root: /mntdirect/_data_id21_inhouse/wout/dev/SpectroCrunchDev/fluxnorm/PGDDvt\n",
      "+-/mntdirect/_data_id21_inhouse/wout/dev/SpectroCrunchDev/fluxnorm/PGDDvt\n",
      "  |\n",
      "  +-dir1\n",
      "    |\n",
      "    +-test2.txt\n",
      "+-/mntdirect/_data_id21_inhouse/wout/dev/SpectroCrunchDev/fluxnorm/PGDDvt\n",
      "  |\n",
      "  +-dir1\n",
      "  |\n",
      "  +-dir2\n",
      "    |\n",
      "    +-test3.txt\n",
      "+-/mntdirect/_data_id21_inhouse/wout/dev/SpectroCrunchDev/fluxnorm/PGDDvt\n",
      "  |\n",
      "  +-dir1\n",
      "  | |\n",
      "  | +-test1.txt\n",
      "  |\n",
      "  +-dir2\n",
      "\n",
      "HDF5 root: /mntdirect/_data_id21_inhouse/wout/dev/SpectroCrunchDev/fluxnorm/71BIqA/test.h5:/\n",
      "+-/mntdirect/_data_id21_inhouse/wout/dev/SpectroCrunchDev/fluxnorm/71BIqA/test.h5:/\n",
      "  |\n",
      "  +-dir1\n",
      "    |\n",
      "    +-test2.txt\n",
      "+-/mntdirect/_data_id21_inhouse/wout/dev/SpectroCrunchDev/fluxnorm/71BIqA/test.h5:/\n",
      "  |\n",
      "  +-dir1\n",
      "  |\n",
      "  +-dir2\n",
      "    |\n",
      "    +-test3.txt\n",
      "+-/mntdirect/_data_id21_inhouse/wout/dev/SpectroCrunchDev/fluxnorm/71BIqA/test.h5:/\n",
      "  |\n",
      "  +-dir1\n",
      "  | |\n",
      "  | +-test1.txt\n",
      "  |\n",
      "  +-dir2\n",
      "\n"
     ]
    }
   ],
   "source": [
    "for hdf5 in [False,True]:\n",
    "    with temppath(hdf5=hdf5) as root:\n",
    "        path = root['dir1'].mkdir()['test1.txt'].mkfile(data='Hello World')\n",
    "        \n",
    "        path = path.move('test2.txt')\n",
    "        root.ls(recursive=True)\n",
    "        \n",
    "        path = path.move('../dir2/test3.txt')\n",
    "        root.ls(recursive=True)\n",
    "        \n",
    "        path = path.move(root['dir1']['test1.txt'])\n",
    "        root.ls(recursive=True)\n",
    "        \n",
    "        print('')"
   ]
  },
  {
   "cell_type": "markdown",
   "metadata": {},
   "source": [
    "### Copy\n",
    "\n",
    "Moving files or directories can be done with the \"copy\" method (alias: \"cp\"). The destination can be a path proxy or a string. Existing destinations are replaced when \"force=True\"."
   ]
  },
  {
   "cell_type": "code",
   "execution_count": 10,
   "metadata": {},
   "outputs": [
    {
     "name": "stdout",
     "output_type": "stream",
     "text": [
      "Local root: /mntdirect/_data_id21_inhouse/wout/dev/SpectroCrunchDev/fluxnorm/Uq3ynT\n",
      "+-/mntdirect/_data_id21_inhouse/wout/dev/SpectroCrunchDev/fluxnorm/Uq3ynT\n",
      "  |\n",
      "  +-dir1\n",
      "    |\n",
      "    +-test1.txt\n",
      "    |\n",
      "    +-test2.txt\n",
      "+-/mntdirect/_data_id21_inhouse/wout/dev/SpectroCrunchDev/fluxnorm/Uq3ynT\n",
      "  |\n",
      "  +-dir1\n",
      "  | |\n",
      "  | +-test1.txt\n",
      "  | |\n",
      "  | +-test2.txt\n",
      "  |\n",
      "  +-dir2\n",
      "    |\n",
      "    +-test3.txt\n",
      "+-/mntdirect/_data_id21_inhouse/wout/dev/SpectroCrunchDev/fluxnorm/Uq3ynT\n",
      "  |\n",
      "  +-dir1\n",
      "  | |\n",
      "  | +-test1.txt\n",
      "  | |\n",
      "  | +-test2.txt\n",
      "  |\n",
      "  +-dir2\n",
      "    |\n",
      "    +-test3.txt\n",
      "+-/mntdirect/_data_id21_inhouse/wout/dev/SpectroCrunchDev/fluxnorm/Uq3ynT\n",
      "  |\n",
      "  +-dir1\n",
      "  | |\n",
      "  | +-test2.txt\n",
      "  |\n",
      "  +-dir2\n",
      "    |\n",
      "    +-test3.txt\n",
      "\n",
      "HDF5 root: /mntdirect/_data_id21_inhouse/wout/dev/SpectroCrunchDev/fluxnorm/Vs0J8P/test.h5:/\n",
      "+-/mntdirect/_data_id21_inhouse/wout/dev/SpectroCrunchDev/fluxnorm/Vs0J8P/test.h5:/\n",
      "  |\n",
      "  +-dir1\n",
      "    |\n",
      "    +-test1.txt\n",
      "    |\n",
      "    +-test2.txt\n",
      "+-/mntdirect/_data_id21_inhouse/wout/dev/SpectroCrunchDev/fluxnorm/Vs0J8P/test.h5:/\n",
      "  |\n",
      "  +-dir1\n",
      "  | |\n",
      "  | +-test1.txt\n",
      "  | |\n",
      "  | +-test2.txt\n",
      "  |\n",
      "  +-dir2\n",
      "    |\n",
      "    +-test3.txt\n",
      "+-/mntdirect/_data_id21_inhouse/wout/dev/SpectroCrunchDev/fluxnorm/Vs0J8P/test.h5:/\n",
      "  |\n",
      "  +-dir1\n",
      "  | |\n",
      "  | +-test1.txt\n",
      "  | |\n",
      "  | +-test2.txt\n",
      "  |\n",
      "  +-dir2\n",
      "    |\n",
      "    +-test3.txt\n",
      "+-/mntdirect/_data_id21_inhouse/wout/dev/SpectroCrunchDev/fluxnorm/Vs0J8P/test.h5:/\n",
      "  |\n",
      "  +-dir1\n",
      "  | |\n",
      "  | +-test2.txt\n",
      "  |\n",
      "  +-dir2\n",
      "    |\n",
      "    +-test3.txt\n",
      "\n"
     ]
    }
   ],
   "source": [
    "for hdf5 in [False,True]:\n",
    "    with temppath(hdf5=hdf5) as root:\n",
    "        path = root['dir1'].mkdir()['test1.txt'].mkfile(data='Hello World')\n",
    "        \n",
    "        path = path.copy('test2.txt')\n",
    "        root.ls(recursive=True)\n",
    "        \n",
    "        path = path.copy('../dir2/test3.txt')\n",
    "        root.ls(recursive=True)\n",
    "        \n",
    "        try:\n",
    "            path = path.copy(root['dir1']['test1.txt'])\n",
    "        except fs.AlreadyExists:\n",
    "            path = path.copy(root['dir1']['test1.txt'],force=True)\n",
    "        else:\n",
    "            raise RuntimeError('Copy should not work')\n",
    "        root.ls(recursive=True)\n",
    "        \n",
    "        try:\n",
    "            path = path.move(root['dir1']['test2.txt'])\n",
    "        except fs.AlreadyExists:\n",
    "            path = path.move(root['dir1']['test2.txt'],force=True)\n",
    "        else:\n",
    "            raise RuntimeError('Move should not work')\n",
    "        root.ls(recursive=True)\n",
    "        \n",
    "        print('')"
   ]
  },
  {
   "cell_type": "markdown",
   "metadata": {},
   "source": [
    "### Links\n",
    "\n",
    "Hard and soft links are supported. The difference is that when deleting the link destination, the hard link still exists (file is not actually deleted) while the soft link is broken."
   ]
  },
  {
   "cell_type": "code",
   "execution_count": 11,
   "metadata": {},
   "outputs": [
    {
     "name": "stdout",
     "output_type": "stream",
     "text": [
      "Local root: /mntdirect/_data_id21_inhouse/wout/dev/SpectroCrunchDev/fluxnorm/bsJblg\n",
      "+-/mntdirect/_data_id21_inhouse/wout/dev/SpectroCrunchDev/fluxnorm/bsJblg\n",
      "  |\n",
      "  +-dir1\n",
      "  | |\n",
      "  | +-file.txt\n",
      "  |\n",
      "  +-hard.txt\n",
      "  |\n",
      "  +-soft.txt ---> dir1/file.txt\n",
      "+-/mntdirect/_data_id21_inhouse/wout/dev/SpectroCrunchDev/fluxnorm/bsJblg\n",
      "  |\n",
      "  +-dir1\n",
      "  |\n",
      "  +-hard.txt\n",
      "  |\n",
      "  +-soft.txt -/-> dir1/file.txt\n",
      "\n",
      "HDF5 root: /mntdirect/_data_id21_inhouse/wout/dev/SpectroCrunchDev/fluxnorm/QvzRMw/test.h5:/\n",
      "+-/mntdirect/_data_id21_inhouse/wout/dev/SpectroCrunchDev/fluxnorm/QvzRMw/test.h5:/\n",
      "  |\n",
      "  +-dir1\n",
      "  | |\n",
      "  | +-file.txt = Hello World\n",
      "  |\n",
      "  +-hard.txt = Hello World\n",
      "  |\n",
      "  +-soft.txt ---> dir1/file.txt = Hello World\n",
      "+-/mntdirect/_data_id21_inhouse/wout/dev/SpectroCrunchDev/fluxnorm/QvzRMw/test.h5:/\n",
      "  |\n",
      "  +-dir1\n",
      "  |\n",
      "  +-hard.txt = Hello World\n",
      "  |\n",
      "  +-soft.txt -/-> dir1/file.txt\n",
      "\n"
     ]
    }
   ],
   "source": [
    "for hdf5 in [False,True]:\n",
    "    with temppath(hdf5=hdf5) as root:\n",
    "        path = root['dir1'].mkdir()['file.txt'].mkfile(data='Hello World')\n",
    "        soft = root['soft.txt'].link(path)\n",
    "        hard = root['hard.txt'].link(path,soft=False)\n",
    "        root.ls(recursive=True,stats=hdf5)\n",
    "        \n",
    "        soft.linkdest().remove(recursive=True)\n",
    "        assert(soft.lexists)\n",
    "        assert(not soft.exists)\n",
    "        assert(hard.lexists)\n",
    "        assert(hard.exists)\n",
    "        root.ls(recursive=True,stats=hdf5)\n",
    "        \n",
    "        print('')"
   ]
  },
  {
   "cell_type": "markdown",
   "metadata": {},
   "source": [
    "### Cross-device links\n",
    "\n",
    "HDF5 also supports cross-device links (called external links):"
   ]
  },
  {
   "cell_type": "code",
   "execution_count": 16,
   "metadata": {},
   "outputs": [
    {
     "name": "stdout",
     "output_type": "stream",
     "text": [
      "HDF5 root: /mntdirect/_data_id21_inhouse/wout/dev/SpectroCrunchDev/fluxnorm/DZJQUA/test.h5:/\n",
      "+-/mntdirect/_data_id21_inhouse/wout/dev/SpectroCrunchDev/fluxnorm/DZJQUA/test.h5:/\n",
      "  |\n",
      "  +-dir1\n",
      "    |\n",
      "    +-a = Hello World\n",
      "\n",
      "+-/mntdirect/_data_id21_inhouse/wout/dev/SpectroCrunchDev/fluxnorm/DZJQUA/external.h5:/\n",
      "  |\n",
      "  +-alnk ---> /mntdirect/_data_id21_inhouse/wout/dev/SpectroCrunchDev/fluxnorm/DZJQUA/test.h5:/dir1/a = Hello World\n",
      "\n",
      "\n",
      "Link destination renamed:\n",
      "+-/mntdirect/_data_id21_inhouse/wout/dev/SpectroCrunchDev/fluxnorm/DZJQUA/test.h5:/\n",
      "  |\n",
      "  +-dir1\n",
      "    |\n",
      "    +-b = Hello World\n",
      "\n",
      "+-/mntdirect/_data_id21_inhouse/wout/dev/SpectroCrunchDev/fluxnorm/DZJQUA/external.h5:/\n",
      "  |\n",
      "  +-alnk -/-> /mntdirect/_data_id21_inhouse/wout/dev/SpectroCrunchDev/fluxnorm/DZJQUA/test.h5:/dir1/a\n",
      "\n",
      "\n",
      "Link to renamed destination:\n",
      "+-/mntdirect/_data_id21_inhouse/wout/dev/SpectroCrunchDev/fluxnorm/DZJQUA/test.h5:/\n",
      "  |\n",
      "  +-dir1\n",
      "    |\n",
      "    +-b = Hello World\n",
      "\n",
      "+-/mntdirect/_data_id21_inhouse/wout/dev/SpectroCrunchDev/fluxnorm/DZJQUA/external.h5:/\n",
      "  |\n",
      "  +-blnk ---> /mntdirect/_data_id21_inhouse/wout/dev/SpectroCrunchDev/fluxnorm/DZJQUA/test.h5:/dir1/b = Hello World\n",
      "\n",
      "\n",
      "Copy destination to local tree:\n",
      "+-/mntdirect/_data_id21_inhouse/wout/dev/SpectroCrunchDev/fluxnorm/DZJQUA/test.h5:/\n",
      "  |\n",
      "  +-dir1\n",
      "    |\n",
      "    +-b = Hello World\n",
      "\n",
      "+-/mntdirect/_data_id21_inhouse/wout/dev/SpectroCrunchDev/fluxnorm/DZJQUA/external.h5:/\n",
      "  |\n",
      "  +-b = Hello World\n",
      "  |\n",
      "  +-blnk ---> /mntdirect/_data_id21_inhouse/wout/dev/SpectroCrunchDev/fluxnorm/DZJQUA/test.h5:/dir1/b = Hello World\n",
      "\n",
      "\n",
      "Move destination to local tree:\n",
      "+-/mntdirect/_data_id21_inhouse/wout/dev/SpectroCrunchDev/fluxnorm/DZJQUA/test.h5:/\n",
      "  |\n",
      "  +-dir1\n",
      "\n",
      "+-/mntdirect/_data_id21_inhouse/wout/dev/SpectroCrunchDev/fluxnorm/DZJQUA/external.h5:/\n",
      "  |\n",
      "  +-b = Hello World\n",
      "  |\n",
      "  +-blnk -/-> /mntdirect/_data_id21_inhouse/wout/dev/SpectroCrunchDev/fluxnorm/DZJQUA/test.h5:/dir1/b\n",
      "  |\n",
      "  +-c = Hello World\n",
      "\n",
      "\n",
      "Move from local tree to destination:\n",
      "+-/mntdirect/_data_id21_inhouse/wout/dev/SpectroCrunchDev/fluxnorm/DZJQUA/test.h5:/\n",
      "  |\n",
      "  +-dir1\n",
      "    |\n",
      "    +-b = Hello World\n",
      "\n",
      "+-/mntdirect/_data_id21_inhouse/wout/dev/SpectroCrunchDev/fluxnorm/DZJQUA/external.h5:/\n",
      "  |\n",
      "  +-blnk ---> /mntdirect/_data_id21_inhouse/wout/dev/SpectroCrunchDev/fluxnorm/DZJQUA/test.h5:/dir1/b = Hello World\n",
      "  |\n",
      "  +-c = Hello World\n",
      "\n",
      "\n",
      "Remove link recursively:\n",
      "+-/mntdirect/_data_id21_inhouse/wout/dev/SpectroCrunchDev/fluxnorm/DZJQUA/test.h5:/\n",
      "  |\n",
      "  +-dir1\n",
      "\n",
      "+-/mntdirect/_data_id21_inhouse/wout/dev/SpectroCrunchDev/fluxnorm/DZJQUA/external.h5:/\n",
      "  |\n",
      "  +-c = Hello World\n"
     ]
    }
   ],
   "source": [
    "with temppath(hdf5=True) as root1:\n",
    "    root2 = h5fs.Path(root1.device.parent['external.h5']).mkdir()\n",
    "    path = root1['dir1'].mkdir()['a'].mkfile(data='Hello World')\n",
    "    \n",
    "    lnk = root2['alnk'].link(path)\n",
    "    root1.ls(recursive=True,stats=True)\n",
    "    print('')\n",
    "    root2.ls(recursive=True,stats=True)\n",
    "    \n",
    "    path = lnk.linkdest().rename('b')\n",
    "    \n",
    "    print('\\n\\nLink destination renamed:')\n",
    "    root1.ls(recursive=True,stats=True)\n",
    "    print('')\n",
    "    root2.ls(recursive=True,stats=True)\n",
    "    \n",
    "    lnk = root2['blnk'].link(path)\n",
    "    root2['alnk'].remove()\n",
    "    \n",
    "    print('\\n\\nLink to renamed destination:')\n",
    "    root1.ls(recursive=True,stats=True)\n",
    "    print('')\n",
    "    root2.ls(recursive=True,stats=True)\n",
    "    \n",
    "    lnk.linkdest().copy(root2['b'])\n",
    "    \n",
    "    print('\\n\\nCopy destination to local tree:')\n",
    "    root1.ls(recursive=True,stats=True)\n",
    "    print('')\n",
    "    root2.ls(recursive=True,stats=True)\n",
    "    \n",
    "    lnk.linkdest().move(root2['c'])\n",
    "    \n",
    "    print('\\n\\nMove destination to local tree:')\n",
    "    root1.ls(recursive=True,stats=True)\n",
    "    print('')\n",
    "    root2.ls(recursive=True,stats=True)\n",
    "    \n",
    "    root2['b'].move(root1['dir1'])\n",
    "    \n",
    "    print('\\n\\nMove from local tree to destination:')\n",
    "    root1.ls(recursive=True,stats=True)\n",
    "    print('')\n",
    "    root2.ls(recursive=True,stats=True)\n",
    "    \n",
    "    root2['blnk'].remove(recursive=True)\n",
    "    \n",
    "    print('\\n\\nRemove link recursively:')\n",
    "    root1.ls(recursive=True,stats=True)\n",
    "    print('')\n",
    "    root2.ls(recursive=True,stats=True)"
   ]
  }
 ],
 "metadata": {
  "kernelspec": {
   "display_name": "Python 2",
   "language": "python",
   "name": "python2"
  },
  "language_info": {
   "codemirror_mode": {
    "name": "ipython",
    "version": 2
   },
   "file_extension": ".py",
   "mimetype": "text/x-python",
   "name": "python",
   "nbconvert_exporter": "python",
   "pygments_lexer": "ipython2",
   "version": "2.7.9"
  }
 },
 "nbformat": 4,
 "nbformat_minor": 2
}
