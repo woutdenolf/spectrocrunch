{
 "cells": [
  {
   "cell_type": "markdown",
   "metadata": {},
   "source": [
    "Monte-carlo simulations\n",
    "===================="
   ]
  },
  {
   "cell_type": "code",
   "execution_count": 9,
   "metadata": {},
   "outputs": [],
   "source": [
    "from spectrocrunch.simulation.xrmc import XrmcWorldBuilder, loadxrmcresult, showxrmcresult\n",
    "from spectrocrunch.io import localfs\n",
    "import numpy as np"
   ]
  },
  {
   "cell_type": "markdown",
   "metadata": {},
   "source": [
    "Define source"
   ]
  },
  {
   "cell_type": "code",
   "execution_count": 10,
   "metadata": {},
   "outputs": [],
   "source": [
    "def definesource(world, fullfield=False):\n",
    "    if fullfield:\n",
    "        beamsize = 100  # micron\n",
    "    else:\n",
    "        beamsize = 1  # micron\n",
    "    world.definesource(flux=1e9, energy=7.5, distance=42e2, beamsize=beamsize*1e-4)"
   ]
  },
  {
   "cell_type": "markdown",
   "metadata": {},
   "source": [
    "Define sample based on projected beam size"
   ]
  },
  {
   "cell_type": "code",
   "execution_count": 11,
   "metadata": {},
   "outputs": [],
   "source": [
    "def definesample(world, fullfield=False):\n",
    "    projbeamsizesample = 2 * (world.source.distance) * np.tan(world.source.divergence)\n",
    "    assert world.source.beamsize == projbeamsizesample\n",
    "\n",
    "    world.removesample()\n",
    "    thickness = [100e-4, 50e-4]\n",
    "    materials = ['hematite', 'vacuum']\n",
    "    if fullfield:\n",
    "        # Make sure the entire sample is in the beam footprint\n",
    "        d = projbeamsizesample/2.\n",
    "    else:\n",
    "        # Make sure the sample is larger than the beam footprint\n",
    "        d = projbeamsizesample*10\n",
    "    dxs = [d/2, d]\n",
    "    dys = [d/4, d]\n",
    "    oxs = [-(d-dxs[1])/2., 0]\n",
    "    oys = [-(d-dys[1])/2., 0]\n",
    "    oxs[0] = oys[0] = 0\n",
    "    for t, material, dx, dy, ox, oy in zip(thickness, materials, dxs, dys, oxs, oys):\n",
    "        world.addcompoundfromname(material)\n",
    "        world.addlayer(thickness=t, dx=dx, dy=dy, ox=ox, oy=oy, material=material)"
   ]
  },
  {
   "cell_type": "markdown",
   "metadata": {},
   "source": [
    "XRF detector"
   ]
  },
  {
   "cell_type": "code",
   "execution_count": 12,
   "metadata": {},
   "outputs": [],
   "source": [
    "def addsdd(world, angle_start=110, angle_end=110, convoluted=False, multiplicity = 2000):\n",
    "    forcedetect = True\n",
    "    poissonnoise = False\n",
    "    distance = 5\n",
    "    activearea = 0.8  # cm^2\n",
    "    ebinsize = 5e-3  # keV\n",
    "    if convoluted:\n",
    "        world.addelement('Si')\n",
    "        world.addelement('Be')\n",
    "        response = {'material': 'Si',\n",
    "                    'thickness': 100e-4,\n",
    "                    'windowmaterial': 'Be',\n",
    "                    'windowthickness': 25e-4,\n",
    "                    'noise': 0.1,\n",
    "                    'fano': 0.1}\n",
    "    else:\n",
    "        response = {}\n",
    "    detector = world.addxrfdetector(\n",
    "                    distance=distance, activearea=activearea,\n",
    "                    orientation_inplane=angle_start, orientation_outplane=0,\n",
    "                    ebinsize=ebinsize, poissonnoise=poissonnoise,\n",
    "                    forcedetect=forcedetect, multiplicity=multiplicity,\n",
    "                    response=response)\n",
    "    if angle_start != angle_end:\n",
    "        angle_nsteps = angle_end-angle_start\n",
    "        detector.add_inplane_rotationloop(1, angle_nsteps)"
   ]
  },
  {
   "cell_type": "markdown",
   "metadata": {},
   "source": [
    "Diode in transmission"
   ]
  },
  {
   "cell_type": "code",
   "execution_count": 13,
   "metadata": {},
   "outputs": [],
   "source": [
    "def adddiode(world, experiment, multiplicity=2000):\n",
    "    forcedetect = True\n",
    "    poissonnoise = False\n",
    "    distance = 5\n",
    "    world.adddiode(distance=distance, activearea=activearea,\n",
    "                   orientation_inplane=0, orientation_outplane=0,\n",
    "                   poissonnoise=poissonnoise, \n",
    "                   forcedetect=forcedetect, multiplicity=multiplicity)"
   ]
  },
  {
   "cell_type": "markdown",
   "metadata": {},
   "source": [
    "Area detector in transmission to view the sample"
   ]
  },
  {
   "cell_type": "code",
   "execution_count": 14,
   "metadata": {},
   "outputs": [],
   "source": [
    "def addpco(world, multiplicity=1):\n",
    "    forcedetect = True\n",
    "    poissonnoise = False\n",
    "    distance = 5\n",
    "    shift = 0.001  # cm\n",
    "    angle = np.arctan2(shift, distance)*180/np.pi  # deg\n",
    "    ebinsize = 5e-3\n",
    "    n = 128\n",
    "    projbeamsizetrans = 2 * (world.source.distance + distance) * np.tan(world.source.divergence)\n",
    "    pixelsize = projbeamsizetrans/n\n",
    "    world.addareadetector(distance=distance,\n",
    "                          pixelsize=(pixelsize, pixelsize), dims=(n, n),\n",
    "                          orientation_inplane=-angle, orientation_outplane=angle,\n",
    "                          ebinsize=ebinsize, poissonnoise=poissonnoise,\n",
    "                          forcedetect=forcedetect, multiplicity=multiplicity)"
   ]
  },
  {
   "cell_type": "markdown",
   "metadata": {},
   "source": [
    "Function to run the experiment"
   ]
  },
  {
   "cell_type": "code",
   "execution_count": 15,
   "metadata": {},
   "outputs": [],
   "source": [
    "def run(world, interactions, simulate=True):\n",
    "    path = localfs.Path(world.main.path)\n",
    "    if simulate:\n",
    "        path.remove(recursive=True)\n",
    "        world.finalize(interactions=interactions)\n",
    "        if not world.simulate():\n",
    "            path.ls(recursive=True)\n",
    "            raise RuntimeError('Simulation failed')\n",
    "    else:\n",
    "        world.finalize(interactions=interactions)\n",
    "    path.ls(recursive=True)\n",
    "    data, info = loadxrmcresult(world.detector.outpath, world.detector.name)\n",
    "    #info.pop('xenergy') # in case you want channels\n",
    "    showxrmcresult(data, ylog=True, **info)"
   ]
  },
  {
   "cell_type": "markdown",
   "metadata": {},
   "source": [
    "Fullfield\n",
    "----------"
   ]
  },
  {
   "cell_type": "code",
   "execution_count": 16,
   "metadata": {},
   "outputs": [
    {
     "name": "stdout",
     "output_type": "stream",
     "text": [
      "+-/data/id21/tmp/xrmctest/fullfield\n",
      "  |\n",
      "  +-compoundlib.dat\n",
      "  |\n",
      "  +-dcmspectrum.dat\n",
      "  |\n",
      "  +-detector.dat\n",
      "  |\n",
      "  +-main.dat\n",
      "  |\n",
      "  +-objectlib.dat\n",
      "  |\n",
      "  +-output\n",
      "  | |\n",
      "  | +-detector.dat\n",
      "  |\n",
      "  +-quadrics.dat\n",
      "  |\n",
      "  +-sample.dat\n",
      "  |\n",
      "  +-synchrotron.dat\n",
      "Data shape: (2, 1, 128, 128, 1500)\n",
      "Total counts/order: [896156081.9528055, 0.0]\n"
     ]
    },
    {
     "data": {
      "image/png": "[encoded data removed]",
      "text/plain": [
       "<Figure size 432x288 with 1 Axes>"
      ]
     },
     "metadata": {
      "needs_background": "light"
     },
     "output_type": "display_data"
    },
    {
     "data": {
      "image/png": "[encoded data removed]",
      "text/plain": [
       "<Figure size 432x288 with 1 Axes>"
      ]
     },
     "metadata": {
      "needs_background": "light"
     },
     "output_type": "display_data"
    },
    {
     "data": {
      "image/png": "[encoded data removed]",
      "text/plain": [
       "<Figure size 432x288 with 1 Axes>"
      ]
     },
     "metadata": {
      "needs_background": "light"
     },
     "output_type": "display_data"
    }
   ],
   "source": [
    "path = r'/data/id21/tmp/xrmctest/fullfield'\n",
    "world = XrmcWorldBuilder(path)\n",
    "definesource(world, fullfield=True)\n",
    "definesample(world, fullfield=True)\n",
    "addpco(world, multiplicity=1)\n",
    "run(world, (500, 500), simulate=True)"
   ]
  }
 ],
 "metadata": {
  "kernelspec": {
   "display_name": "Python 2",
   "language": "python",
   "name": "python2"
  },
  "language_info": {
   "codemirror_mode": {
    "name": "ipython",
    "version": 2
   },
   "file_extension": ".py",
   "mimetype": "text/x-python",
   "name": "python",
   "nbconvert_exporter": "python",
   "pygments_lexer": "ipython2",
   "version": "2.7.9"
  }
 },
 "nbformat": 4,
 "nbformat_minor": 2
}
