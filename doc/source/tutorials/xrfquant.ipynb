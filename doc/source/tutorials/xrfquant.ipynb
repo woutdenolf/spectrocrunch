{
 "cells": [
  {
   "cell_type": "markdown",
   "metadata": {},
   "source": [
    "XRF quantification\n",
    "========\n",
    "The fluorescence/scattered intensity $I_{i,j}$ due to irradiation with flux $I_s$"
   ]
  },
  {
   "cell_type": "markdown",
   "metadata": {},
   "source": [
    "$$\n",
    "\\begin{equation}\n",
    "I_{i,j}=I_s(Hz)\\Delta t(s)\\Omega(sr)w_i A_{i,j} c_{i,j}\n",
    "\\end{equation}\n",
    "$$"
   ]
  },
  {
   "cell_type": "markdown",
   "metadata": {},
   "source": [
    "where $I_{i,j}$ the fluorescence/scattered intensity with energy $E_{j}$ due to incident photons with energy $E_{i}$, $\\Delta t$ the exposure time, $\\Omega$ the solid angle of the detector, $w_i$ the fraction of incident photons with energy $E_{j}$, $A_{i,j}$ the attenuation by filter and detector and $c_{i,j}$ the rate of line $j$ due to source line $i$."
   ]
  },
  {
   "cell_type": "markdown",
   "metadata": {},
   "source": [
    "See the notebook on [diodes](diodes.ipynb) on how $I_s$ is measured. As for the solid angle, we will assume it can be written as"
   ]
  },
  {
   "cell_type": "markdown",
   "metadata": {},
   "source": [
    "$$\n",
    "\\begin{equation}\n",
    "\\Omega=2\\pi\\left(1-\\frac{x-x_0}{\\sqrt{\\left(\\frac{A}{\\pi}\\right)^2+\\left(x-x_0\\right)^2}}\\right)\n",
    "\\end{equation}\n",
    "$$"
   ]
  },
  {
   "cell_type": "markdown",
   "metadata": {},
   "source": [
    "where $A(mm^2)$ the active area of the detector, $x(mm)$ the position of the detector and $x_0$ the distance to the sample for $x=0$."
   ]
  }
 ],
 "metadata": {
  "kernelspec": {
   "display_name": "Python 2",
   "language": "python",
   "name": "python2"
  },
  "language_info": {
   "codemirror_mode": {
    "name": "ipython",
    "version": 2
   },
   "file_extension": ".py",
   "mimetype": "text/x-python",
   "name": "python",
   "nbconvert_exporter": "python",
   "pygments_lexer": "ipython2",
   "version": "2.7.3"
  }
 },
 "nbformat": 4,
 "nbformat_minor": 2
}
