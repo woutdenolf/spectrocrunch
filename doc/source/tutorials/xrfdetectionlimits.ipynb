{
 "cells": [
  {
   "cell_type": "markdown",
   "metadata": {},
   "source": [
    "XRF detection limits\n",
    "========\n",
    "Some theoretical considerations can be found [here](detectionlimits.ipynb).\n",
    "\n",
    "Define the [materials](materials.ipynb) that could be in your sample:"
   ]
  },
  {
   "cell_type": "code",
   "execution_count": 1,
   "metadata": {},
   "outputs": [],
   "source": [
    "from spectrocrunch.materials import compoundfromformula\n",
    "from spectrocrunch.materials import compoundfromname\n",
    "from spectrocrunch.materials import mixture\n",
    "from spectrocrunch.materials import types\n",
    "\n",
    "components = {}\n",
    "k = compoundfromname.compoundfromname(\"linseed oil\")\n",
    "components[k] = 1\n",
    "k = compoundfromformula.CompoundFromFormula(\"Al2O3\",density=4.02)\n",
    "components[k] = 1\n",
    "k = compoundfromformula.CompoundFromFormula(\"SiO2\",density=2.66)\n",
    "components[k] = 1\n",
    "k = compoundfromformula.CompoundFromFormula(\"CaCO3\",density=2.71)\n",
    "components[k] = 1\n",
    "k = compoundfromformula.CompoundFromFormula(\"CaSO4(H2O)2\",density=2.31)\n",
    "components[k] = 1\n",
    "k = compoundfromformula.CompoundFromFormula(\"Fe3(PO4)2(H2O)8\",density=2.65)\n",
    "components[k] = 1\n",
    "\n",
    "mix1 = mixture.Mixture(components.keys(),\n",
    "                       components.values(),\n",
    "                       types.fraction.mass,\n",
    "                       name=\"Mixture1\")\n",
    "\n",
    "components = {}\n",
    "k = compoundfromformula.CompoundFromFormula(\"PbSO4\",density=2.65)\n",
    "components[k] = 1\n",
    "k = compoundfromformula.CompoundFromFormula(\"CaCl2\",density=2.15)\n",
    "components[k] = 1\n",
    "k = compoundfromformula.CompoundFromFormula(\"CeO2\",density=7.22)\n",
    "components[k] = 1\n",
    "k = compoundfromformula.CompoundFromFormula(\"TiO2\",density=4.23)\n",
    "components[k] = 1\n",
    "\n",
    "mix2 = mixture.Mixture(components.keys(),\n",
    "                       components.values(),\n",
    "                       types.fraction.mass,\n",
    "                       name=\"Mixture2\")"
   ]
  },
  {
   "cell_type": "markdown",
   "metadata": {},
   "source": [
    "Define the XRF geometry:"
   ]
  },
  {
   "cell_type": "code",
   "execution_count": 2,
   "metadata": {},
   "outputs": [
    {
     "name": "stderr",
     "output_type": "stream",
     "text": [
      "WARNING:silx.DEPRECATION:Qt Binding PyQt4 is deprecated since silx version 0.9.0. Use 'PyQt5' instead.\n",
      "  File \"/sware/exp/spectrocrunch/2019xrmc_debian8/venv/local/lib/python2.7/site-packages/silx/gui/qt/_qt.py\", line 96, in <module>\n",
      "    since_version='0.9.0')\n",
      "WARNING:silx.gui.plot.matplotlib:matplotlib already loaded, setting its backend may not work\n"
     ]
    }
   ],
   "source": [
    "from spectrocrunch.materials import multilayer\n",
    "from spectrocrunch.detectors import xrf as xrfdetectors\n",
    "from spectrocrunch.geometries import xrf as xrfgeometries\n",
    "from spectrocrunch.sources import xray as xraysources\n",
    "\n",
    "source = xraysources.factory(\"synchrotron\")\n",
    "detector = xrfdetectors.factory(\"leia\")\n",
    "geometry = xrfgeometries.factory(\"sxm120\",\n",
    "                                 detectorposition=-20.,\n",
    "                                 detector=detector,\n",
    "                                 source=source)"
   ]
  },
  {
   "cell_type": "markdown",
   "metadata": {},
   "source": [
    "Create a sample in this geometry:"
   ]
  },
  {
   "cell_type": "code",
   "execution_count": 3,
   "metadata": {},
   "outputs": [],
   "source": [
    "# thickness in cm\n",
    "sample = multilayer.Multilayer(material=[mix1,mix2],\n",
    "                               thickness=[10*1e-4,10*1e-4],\n",
    "                               geometry = geometry)"
   ]
  },
  {
   "cell_type": "markdown",
   "metadata": {},
   "source": [
    "Select fluorescence lines for which to calculate SNR:"
   ]
  },
  {
   "cell_type": "code",
   "execution_count": 4,
   "metadata": {},
   "outputs": [
    {
     "ename": "ImportError",
     "evalue": "No module named common",
     "output_type": "error",
     "traceback": [
      "\u001b[0;31m---------------------------------------------------------------------------\u001b[0m",
      "\u001b[0;31mImportError\u001b[0m                               Traceback (most recent call last)",
      "\u001b[0;32m<ipython-input-4-1da2e98704cd>\u001b[0m in \u001b[0;36m<module>\u001b[0;34m()\u001b[0m\n\u001b[1;32m      1\u001b[0m \u001b[0;32mfrom\u001b[0m \u001b[0mspectrocrunch\u001b[0m\u001b[0;34m.\u001b[0m\u001b[0mmaterials\u001b[0m \u001b[0;32mimport\u001b[0m \u001b[0mxrayspectrum\u001b[0m\u001b[0;34m\u001b[0m\u001b[0m\n\u001b[0;32m----> 2\u001b[0;31m \u001b[0;32mfrom\u001b[0m \u001b[0mspectrocrunch\u001b[0m\u001b[0;34m.\u001b[0m\u001b[0mcommon\u001b[0m \u001b[0;32mimport\u001b[0m \u001b[0minstance\u001b[0m\u001b[0;34m\u001b[0m\u001b[0m\n\u001b[0m\u001b[1;32m      3\u001b[0m \u001b[0;34m\u001b[0m\u001b[0m\n\u001b[1;32m      4\u001b[0m \u001b[0;32mdef\u001b[0m \u001b[0mgetfluolines\u001b[0m\u001b[0;34m(\u001b[0m\u001b[0mele\u001b[0m\u001b[0;34m,\u001b[0m\u001b[0memin\u001b[0m\u001b[0;34m,\u001b[0m\u001b[0memax\u001b[0m\u001b[0;34m)\u001b[0m\u001b[0;34m:\u001b[0m\u001b[0;34m\u001b[0m\u001b[0m\n\u001b[1;32m      5\u001b[0m     \u001b[0mlines\u001b[0m \u001b[0;34m=\u001b[0m \u001b[0mxrayspectrum\u001b[0m\u001b[0;34m.\u001b[0m\u001b[0mFluoLine\u001b[0m\u001b[0;34m.\u001b[0m\u001b[0mfactory\u001b[0m\u001b[0;34m(\u001b[0m\u001b[0menergybounds\u001b[0m\u001b[0;34m=\u001b[0m\u001b[0;34m(\u001b[0m\u001b[0mele\u001b[0m\u001b[0;34m,\u001b[0m\u001b[0memin\u001b[0m\u001b[0;34m,\u001b[0m\u001b[0memax\u001b[0m\u001b[0;34m)\u001b[0m\u001b[0;34m)\u001b[0m\u001b[0;34m\u001b[0m\u001b[0m\n",
      "\u001b[0;31mImportError\u001b[0m: No module named common"
     ]
    }
   ],
   "source": [
    "from spectrocrunch.materials import xrayspectrum\n",
    "from spectrocrunch.common import instance\n",
    "\n",
    "def getfluolines(ele,emin,emax):\n",
    "    lines = xrayspectrum.FluoLine.factory(energybounds=(ele,emin,emax))\n",
    "    return [\"{}-{}\".format(ele,line) for line in lines]\n",
    "\n",
    "# Define by name:\n",
    "#lines = [[\"Al-K\"],[\"S-KL\"],[\"Ce\"]]\n",
    "\n",
    "# Define by element and energy-range\n",
    "lines = [getfluolines(\"Al\",1,2),\n",
    "         getfluolines(\"S\",2,3),\n",
    "         getfluolines(\"Ce\",4.5,6.5)]"
   ]
  },
  {
   "cell_type": "markdown",
   "metadata": {},
   "source": [
    "Define acquisition parameters:"
   ]
  },
  {
   "cell_type": "code",
   "execution_count": null,
   "metadata": {},
   "outputs": [],
   "source": [
    "energy = 7.5 # keV\n",
    "flux = 1e10 # ph/s\n",
    "time = 1 # s"
   ]
  },
  {
   "cell_type": "markdown",
   "metadata": {},
   "source": [
    "Define XRF background:"
   ]
  },
  {
   "cell_type": "code",
   "execution_count": null,
   "metadata": {},
   "outputs": [],
   "source": [
    "detector.bstail = True\n",
    "detector.bstep = True\n",
    "bkgfluxmax = 10 # ph/s/channel\n",
    "bkgenergymin = 1.\n",
    "bkgenergymax = bkgenergymin + (energy-bkgenergymin)*0.5\n",
    "bkgenergyw = bkgfluxmax*time/(bkgenergymin-bkgenergymax)**2\n",
    "backfunc = lambda x: np.clip(bkgfluxmax*time-bkgenergyw*(x-bkgenergymax)**2,0,None)\n",
    "#backfunc = None\n",
    "\n",
    "detector.stailslope_ratio = 0.1\n",
    "detector.stailarea_ratio = 0.05"
   ]
  },
  {
   "cell_type": "markdown",
   "metadata": {},
   "source": [
    "Some helper functions:"
   ]
  },
  {
   "cell_type": "code",
   "execution_count": null,
   "metadata": {},
   "outputs": [],
   "source": [
    "# Function to calculate + plot\n",
    "def SNR(sample,lines,plotlines=False):\n",
    "    if instance.isstring(lines):\n",
    "        lines = [lines]\n",
    "    spectrum = sample.xrayspectrum(energy,emin=0.5,emax=energy+0.5)\n",
    "    linevalid = lambda ln: any(ln.startswith(line) for line in lines)\n",
    "    ret = spectrum.snr(linevalid,fluxtime=flux*time,histogram=True,backfunc=backfunc,plot=True,kstd=3)\n",
    "    \n",
    "    if plotlines:\n",
    "        spectrum.plot(fluxtime=flux*time,histogram=True,backfunc=backfunc,\\\n",
    "                  forcelines=True,title=None,legend=False,log=True)\n",
    "    else:\n",
    "        plt.gca().set_yscale('log', basey=10)\n",
    "        \n",
    "    plt.ylim((1,1e5))\n",
    "    #plt.xlim((1,3))\n",
    "    return ret\n",
    "\n",
    "# Print composition\n",
    "def printcomp(comp,unit=\"ppm\"):\n",
    "    if unit==\"ppm\":\n",
    "        nfrac = comp.molefractions()\n",
    "        printfmt = lambda k,v: \"{}: {} ppm\".format(k,v/s*1e6)\n",
    "    elif unit==\"wt%\":\n",
    "        nfrac = comp.massfractions()\n",
    "        printfmt = lambda k,v: \"{}: {} wt%\".format(k,v/s*1e2)\n",
    "    elif unit==\"ug/g\":\n",
    "        nfrac = comp.massfractions()\n",
    "        printfmt = lambda k,v: \"{}: {} ug/g\".format(k,v/s*1e6)\n",
    "    s = sum(nfrac.values())\n",
    "    print(comp.name)\n",
    "    for k,v in nfrac.items():\n",
    "        print(printfmt(k,v))"
   ]
  },
  {
   "cell_type": "markdown",
   "metadata": {},
   "source": [
    "Calculate + visualize SNR:"
   ]
  },
  {
   "cell_type": "code",
   "execution_count": null,
   "metadata": {},
   "outputs": [],
   "source": [
    "import numpy as np\n",
    "import matplotlib.pyplot as plt\n",
    "import matplotlib\n",
    "%matplotlib inline\n",
    "matplotlib.rcParams.update({'font.size': 14})\n",
    "\n",
    "# Last-minute changes in composition\n",
    "#mix1.setmassfraction([\"Al2O3\",\"CaSO4(H2O)2\"],[0.1,0.05,0.0001])\n",
    "#mix2.setmassfraction([\"PbSO4\",\"CeO2\",\"TiO2\"],[0.5,0.005,0.001])\n",
    "\n",
    "# Print the sample composition\n",
    "print(sample)\n",
    "\n",
    "unit = \"wt%\"\n",
    "for layer in sample:\n",
    "    try:\n",
    "        printcomp(layer.tocompound(name=layer.material.name),unit=unit)\n",
    "    except:\n",
    "        printcomp(layer.material,unit=unit)\n",
    "\n",
    "# Calculate + plot SNR for each line\n",
    "for line in lines:\n",
    "    plt.figure(figsize=(12,5))\n",
    "    result = SNR(sample,line,plotlines=True)\n",
    "    plt.show()"
   ]
  }
 ],
 "metadata": {
  "kernelspec": {
   "display_name": "Python 2",
   "language": "python",
   "name": "python2"
  },
  "language_info": {
   "codemirror_mode": {
    "name": "ipython",
    "version": 2
   },
   "file_extension": ".py",
   "mimetype": "text/x-python",
   "name": "python",
   "nbconvert_exporter": "python",
   "pygments_lexer": "ipython2",
   "version": "2.7.9"
  }
 },
 "nbformat": 4,
 "nbformat_minor": 2
}
